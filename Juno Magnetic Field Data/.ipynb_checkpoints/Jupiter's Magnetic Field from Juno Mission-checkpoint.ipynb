{
 "cells": [
  {
   "cell_type": "markdown",
   "metadata": {},
   "source": [
    "## Magnetic Field and Spacecraft Orbit Data from Juno mission "
   ]
  },
  {
   "cell_type": "markdown",
   "metadata": {},
   "source": [
    "### Adam Benson"
   ]
  },
  {
   "cell_type": "markdown",
   "metadata": {},
   "source": [
    "This Jupyter notebook analyzes magnetic field and spacecraft orbit data collected during NASA's Juno mission to Jupiter. This data is avaliable through the Planetary Data System, which archives and distributes mission data from NASA. "
   ]
  },
  {
   "cell_type": "markdown",
   "metadata": {},
   "source": [
    "In particular, I will be analyzing the Juno Magntometer (FGM) calibrated data for three days in November of 2016: November 20th, 21st, and 23rd. The data is avaliable as a vector output in different coordinate systems. In this report, I will be using the Sun-State coordinate system, defined here: https://pds.jpl.nasa.gov/ds-view/pds/viewProfile.jsp?dsid=JNO-SW-3-FGM-CAL-V1.0"
   ]
  },
  {
   "cell_type": "markdown",
   "metadata": {},
   "source": [
    "This lab imports an external module, JupiterFunctions, which includes functions to load and manipulate the FGM Data."
   ]
  },
  {
   "cell_type": "markdown",
   "metadata": {},
   "source": [
    "The original data sets can be found here:"
   ]
  },
  {
   "cell_type": "markdown",
   "metadata": {},
   "source": [
    "PERI - 03: https://pds-ppi.igpp.ucla.edu/search/view/?f=yes&id=pds://PPI/JNO-J-3-FGM-CAL-V1.0/DATA/JUPITER/SS/PERI-03\n",
    "\n",
    "\n",
    "2016 - 325 (11/20/2016): https://pds-ppi.igpp.ucla.edu/search/view/?f=yes&id=pds://PPI/JNO-J-3-FGM-CAL-V1.0/DATA/JUPITER/SS/PERI-03/fgm_jno_l3_2016325ss_r1s_v01&o=1\n",
    "\n",
    "2016 - 326 (11/21/2016): https://pds-ppi.igpp.ucla.edu/search/view/?f=yes&id=pds://PPI/JNO-J-3-FGM-CAL-V1.0/DATA/JUPITER/SS/PERI-03/fgm_jno_l3_2016326ss_r1s_v01&o=1\n",
    "\n",
    "2016 - 328 (11/23/2016): https://pds-ppi.igpp.ucla.edu/search/view/?f=yes&id=pds://PPI/JNO-J-3-FGM-CAL-V1.0/DATA/JUPITER/SS/PERI-03/fgm_jno_l3_2016328ss_r1s_v01&o=1"
   ]
  },
  {
   "cell_type": "markdown",
   "metadata": {},
   "source": [
    "### Import Statements"
   ]
  },
  {
   "cell_type": "code",
   "execution_count": 2,
   "metadata": {
    "collapsed": true
   },
   "outputs": [],
   "source": [
    "import pandas as pd                           # dataframes for data analysis\n",
    "import numpy as np                            # for handling numbers with precision\n",
    "import matplotlib.pyplot as plt               # for plotting of datasets\n",
    "import datetime as dt                         # package that allows for datetime manipulation\n",
    "                                              \n",
    "    \n",
    "import matplotlib.dates as mdt                # for manipulation of dates in matplotlib\n",
    "import matplotlib.image as mpimg              # for manipulation of img files\n",
    "                                              # in plotting environments\n",
    "    \n",
    "import importlib                              # for reimporting libaries / packages\n",
    "from matplotlib.ticker import MultipleLocator # for pretty plotting\n",
    "\n",
    "import jupiterfunctions as jupfunc            # My Function! Check function definition\n",
    "\n",
    "# so that visualizations will be placed in the notebook\n",
    "%matplotlib inline\n"
   ]
  },
  {
   "cell_type": "markdown",
   "metadata": {},
   "source": [
    "### Self Written Module"
   ]
  },
  {
   "cell_type": "code",
   "execution_count": 3,
   "metadata": {},
   "outputs": [
    {
     "name": "stdout",
     "output_type": "stream",
     "text": [
      "Help on module jupiterfunctions:\n",
      "\n",
      "NAME\n",
      "    jupiterfunctions - jupiterfunctions.py\n",
      "\n",
      "DESCRIPTION\n",
      "    \n",
      "    Name and Date: \n",
      "    - Written on 2/7/2018 for CLaSP 405 by Adam Benson. \n",
      "    \n",
      "    Purpose:\n",
      "    - This module contains functions to read in and manipulate Juno Magntometer (FGM) calibrated data from the Juno Jupiter oribtal phases. \n",
      "    ~\n",
      "\n",
      "FUNCTIONS\n",
      "    addQuadrature(X, Y, Z)\n",
      "        Calculates a quadrature sum of three values. \n",
      "        Formula = np.sqrt(x^2 + y^2 + z^2)\n",
      "        Useful when calculating the  magnitude of X, Y, Z vector components.\n",
      "    \n",
      "    convertJupiterR(columns)\n",
      "        Takes in a dataframe subset of coordinates and converts them\n",
      "        into radii of Jupiter by creating new columns.\n",
      "    \n",
      "    errorFunction(x)\n",
      "    \n",
      "    readFGM(year, dayOfYear)\n",
      "        Function to read in Juno FluxGate Magnetometer (FGM) data. It takes two strings, year and\n",
      "        day of year, as inputs. The function finds the specified data and returns a pandas\n",
      "        dataframe with datetime objects as an index.\n",
      "\n",
      "FILE\n",
      "    /home/adam/Documents/Geoscience_Data_Analysis_Projects/Juno Magnetic Field Data/jupiterfunctions.py\n",
      "\n",
      "\n",
      "None\n"
     ]
    }
   ],
   "source": [
    "print(help(jupfunc)) # description of module"
   ]
  },
  {
   "cell_type": "markdown",
   "metadata": {},
   "source": [
    "### Loading Data"
   ]
  },
  {
   "cell_type": "code",
   "execution_count": 4,
   "metadata": {},
   "outputs": [
    {
     "name": "stdout",
     "output_type": "stream",
     "text": [
      "86400 86400 86400\n"
     ]
    }
   ],
   "source": [
    "# these files are all from 2016\n",
    "yearVal = '2016'\n",
    "# calling external function to load a pandas data frame for each day of data\n",
    "# Note data gap: missing day 327 (11/22/2016)\n",
    "# 325 DOY (11/20/2016)\n",
    "mag325 = jupfunc.readFGM(yearVal, '325')\n",
    "# 326 DOY (11/21/2016)\n",
    "mag326 = jupfunc.readFGM(yearVal, '326')\n",
    "# 328 DOY (11/23/2016)\n",
    "mag328 = jupfunc.readFGM(yearVal, '328')\n",
    "\n",
    "\n",
    "# Checking for missing data\n",
    "print(len(mag328), len(mag325), len(mag326)) "
   ]
  },
  {
   "cell_type": "code",
   "execution_count": 5,
   "metadata": {},
   "outputs": [
    {
     "name": "stdout",
     "output_type": "stream",
     "text": [
      "HEAD\n",
      "\n",
      "                            DATETIME  MSEC   B_X   B_Y   B_Z        POS_X  \\\n",
      "DATETIME                                                                   \n",
      "2016-11-20 00:00:01  2016 325 0 0 1   950  1.77  3.33  0.88 -1108333.787   \n",
      "2016-11-20 00:00:02  2016 325 0 0 2   513  1.80  3.30  0.91 -1108333.807   \n",
      "2016-11-20 00:00:03  2016 325 0 0 3   513  1.78  3.23  0.94 -1108333.842   \n",
      "\n",
      "                           POS_Y       POS_Z  \n",
      "DATETIME                                      \n",
      "2016-11-20 00:00:01 -7775259.164 -796958.119  \n",
      "2016-11-20 00:00:02 -7775258.740 -796957.767  \n",
      "2016-11-20 00:00:03 -7775257.987 -796957.140   \n",
      "\n",
      "TAIL\n",
      "\n",
      "                               DATETIME  MSEC   B_X   B_Y   B_Z        POS_X  \\\n",
      "DATETIME                                                                      \n",
      "2016-11-23 23:59:58  2016 328 23 59 58   453  3.12  0.70  1.39 -1100738.948   \n",
      "2016-11-23 23:59:59  2016 328 23 59 59   453  3.12  0.73  1.31 -1100738.867   \n",
      "2016-11-24 00:00:00     2016 329 0 0 0   453  3.10  0.81  1.21 -1100738.786   \n",
      "\n",
      "                           POS_Y       POS_Z  \n",
      "DATETIME                                      \n",
      "2016-11-23 23:59:58 -7391454.877 -568437.282  \n",
      "2016-11-23 23:59:59 -7391453.398 -568436.589  \n",
      "2016-11-24 00:00:00 -7391451.920 -568435.895   \n",
      "\n"
     ]
    }
   ],
   "source": [
    "# Appending all of the data frames together\n",
    "# Because the index is datetime objects, the data will be in proper order\n",
    "dataFGM = mag325.append(mag326).append(mag328)\n",
    "\n",
    "# Checking to make sure df is the proper length\n",
    "# print(86400*3)\n",
    "# print(len(dataFGM))\n",
    "\n",
    "# Checking to make sure that the dataframe includes all three days\n",
    "print('HEAD\\n\\n', dataFGM.head(n=3), '\\n')\n",
    "print('TAIL\\n\\n', dataFGM.tail(n=3), '\\n') "
   ]
  },
  {
   "cell_type": "markdown",
   "metadata": {},
   "source": [
    "### Filling Missing Data"
   ]
  },
  {
   "cell_type": "code",
   "execution_count": 6,
   "metadata": {},
   "outputs": [
    {
     "name": "stdout",
     "output_type": "stream",
     "text": [
      "345600 345600 259200 \n",
      "\n",
      "GOOD DATA:\n",
      " DATETIME    2016 325 1 0 0\n",
      "MSEC                   509\n",
      "B_X                   2.01\n",
      "B_Y                    3.5\n",
      "B_Z                   0.12\n",
      "POS_X         -1.10846e+06\n",
      "POS_Y         -7.77254e+06\n",
      "POS_Z              -794700\n",
      "Name: 2016-11-20 01:00:00, dtype: object \n",
      "\n",
      "MISSING DATA:\n",
      " DATETIME    NaN\n",
      "MSEC        NaN\n",
      "B_X         NaN\n",
      "B_Y         NaN\n",
      "B_Z         NaN\n",
      "POS_X       NaN\n",
      "POS_Y       NaN\n",
      "POS_Z       NaN\n",
      "Name: 2016-11-22 01:00:00, dtype: object\n"
     ]
    }
   ],
   "source": [
    "# resampling array at the 1S frequency \n",
    "# adds and fills in 'NAN'where there are missing values.\n",
    "\n",
    "fullDataFGM = (dataFGM.resample('1S').asfreq()).copy()\n",
    "# Checking length of resampled data frame against expected value\n",
    "# and original length with data gap\n",
    "print(len(fullDataFGM), (24*4*60*60), len(dataFGM), '\\n')\n",
    "\n",
    "# Examples of good data and missing data, shown as 'NaN'.\n",
    "# Good data: November 20th\n",
    "print('GOOD DATA:\\n', fullDataFGM.loc[dt.datetime(2016, 11, 20, 1), :], '\\n')\n",
    "# Missing data: November 22nd (data gap exists between 21st and 23rd of November)\n",
    "print('MISSING DATA:\\n',fullDataFGM.loc[dt.datetime(2016, 11, 22, 1), :])"
   ]
  },
  {
   "cell_type": "markdown",
   "metadata": {
    "collapsed": true
   },
   "source": [
    "### Converting to Jupiter Radii"
   ]
  },
  {
   "cell_type": "code",
   "execution_count": 7,
   "metadata": {},
   "outputs": [
    {
     "name": "stdout",
     "output_type": "stream",
     "text": [
      "                      POS_X_RJ    POS_Y_RJ   POS_Z_RJ\n",
      "DATETIME                                             \n",
      "2016-11-20 00:00:01 -15.502906 -108.757052 -11.147515\n",
      "2016-11-20 00:00:02 -15.502907 -108.757046 -11.147510\n",
      "2016-11-20 00:00:03 -15.502907 -108.757036 -11.147501\n"
     ]
    }
   ],
   "source": [
    "# converting x,y,z columns to Jupiter Radii\n",
    "convertedCols = jupfunc.convertJupiterR(fullDataFGM[['POS_X', 'POS_Y', 'POS_Z']])\n",
    "\n",
    "# creating and assigning new Jupiter Radii columns\n",
    "fullDataFGM[['POS_X_RJ', 'POS_Y_RJ', 'POS_Z_RJ']] = convertedCols\n",
    "\n",
    "# checking to make sure columns were created\n",
    "print(fullDataFGM[['POS_X_RJ', 'POS_Y_RJ', 'POS_Z_RJ']].head(n=3))"
   ]
  },
  {
   "cell_type": "markdown",
   "metadata": {},
   "source": [
    "### Calculating Magnitude of Magnetic Field"
   ]
  },
  {
   "cell_type": "code",
   "execution_count": 8,
   "metadata": {},
   "outputs": [
    {
     "name": "stdout",
     "output_type": "stream",
     "text": [
      "                           DATETIME   MSEC   B_X   B_Y   B_Z        POS_X  \\\n",
      "DATETIME                                                                    \n",
      "2016-11-20 00:00:01  2016 325 0 0 1  950.0  1.77  3.33  0.88 -1108333.787   \n",
      "2016-11-20 00:00:02  2016 325 0 0 2  513.0  1.80  3.30  0.91 -1108333.807   \n",
      "2016-11-20 00:00:03  2016 325 0 0 3  513.0  1.78  3.23  0.94 -1108333.842   \n",
      "\n",
      "                           POS_Y       POS_Z   POS_X_RJ    POS_Y_RJ  \\\n",
      "DATETIME                                                              \n",
      "2016-11-20 00:00:01 -7775259.164 -796958.119 -15.502906 -108.757052   \n",
      "2016-11-20 00:00:02 -7775258.740 -796957.767 -15.502907 -108.757046   \n",
      "2016-11-20 00:00:03 -7775257.987 -796957.140 -15.502907 -108.757036   \n",
      "\n",
      "                      POS_Z_RJ     B_MAG  \n",
      "DATETIME                                  \n",
      "2016-11-20 00:00:01 -11.147515  3.872493  \n",
      "2016-11-20 00:00:02 -11.147510  3.867570  \n",
      "2016-11-20 00:00:03 -11.147501  3.805903  \n"
     ]
    }
   ],
   "source": [
    "#Calculating the magntitude of magnetic field vector using quadrature formula\n",
    "\n",
    "#B_mag =  adding in quadrature (sqrt(Bx^2 + By^2 + Bz^2))\n",
    "magnitude = jupfunc.addQuadrature(fullDataFGM['B_X'], \n",
    "                             fullDataFGM['B_Y'], fullDataFGM['B_Z'])\n",
    "\n",
    "\n",
    "# Creating new column in data frame\n",
    "fullDataFGM['B_MAG'] = magnitude\n",
    "\n",
    "print(fullDataFGM.head(n=3))"
   ]
  },
  {
   "cell_type": "markdown",
   "metadata": {},
   "source": [
    "### Calculating Error of Magnitude"
   ]
  },
  {
   "cell_type": "code",
   "execution_count": 9,
   "metadata": {},
   "outputs": [
    {
     "name": "stdout",
     "output_type": "stream",
     "text": [
      "                           DATETIME   MSEC   B_X   B_Y   B_Z        POS_X  \\\n",
      "DATETIME                                                                    \n",
      "2016-11-20 00:00:01  2016 325 0 0 1  950.0  1.77  3.33  0.88 -1108333.787   \n",
      "2016-11-20 00:00:02  2016 325 0 0 2  513.0  1.80  3.30  0.91 -1108333.807   \n",
      "2016-11-20 00:00:03  2016 325 0 0 3  513.0  1.78  3.23  0.94 -1108333.842   \n",
      "\n",
      "                           POS_Y       POS_Z   POS_X_RJ    POS_Y_RJ  \\\n",
      "DATETIME                                                              \n",
      "2016-11-20 00:00:01 -7775259.164 -796958.119 -15.502906 -108.757052   \n",
      "2016-11-20 00:00:02 -7775258.740 -796957.767 -15.502907 -108.757046   \n",
      "2016-11-20 00:00:03 -7775257.987 -796957.140 -15.502907 -108.757036   \n",
      "\n",
      "                      POS_Z_RJ     B_MAG  B_MAG_ERROR  \n",
      "DATETIME                                               \n",
      "2016-11-20 00:00:01 -11.147515  3.872493     1.706328  \n",
      "2016-11-20 00:00:02 -11.147510  3.867570     1.708305  \n",
      "2016-11-20 00:00:03 -11.147501  3.805903     1.708810  \n"
     ]
    }
   ],
   "source": [
    "# using numpy's np.std, with ddof=1, to calculate the standard deviation of each Bx,By, and Bz\n",
    "# calling errorFunction from external modules to get the error of X,Y,and Z\n",
    "errors = jupfunc.errorFunction(fullDataFGM)\n",
    "\n",
    "# Now that we have std dev, calculating magnitude error using quadrature function\n",
    "magnitudeError = jupfunc.addQuadrature(errors[0], errors[1], errors[2])\n",
    "\n",
    "fullDataFGM['B_MAG_ERROR'] = magnitudeError\n",
    "# Printing first 3 lines to ensure that magnitude was correctly calculated\n",
    "print(fullDataFGM.head(n=3))"
   ]
  },
  {
   "cell_type": "markdown",
   "metadata": {},
   "source": [
    "### Time Series Visualization of Magnetic Field, Magnitude, and Spacecraft Coordinates"
   ]
  },
  {
   "cell_type": "code",
   "execution_count": 10,
   "metadata": {},
   "outputs": [
    {
     "data": {
      "image/png": "[encoded data removed]",
      "text/plain": [
       "<matplotlib.figure.Figure at 0x7f2137079a20>"
      ]
     },
     "metadata": {},
     "output_type": "display_data"
    }
   ],
   "source": [
    "# initialize figure size\n",
    "fig = plt.figure(figsize=(10, 10))\n",
    "\n",
    "# informative figure title\n",
    "fig.suptitle('Time Series Visualization of Magnetic Field, Magnitude, and Spacecraft Location Data', fontsize=20)\n",
    "\n",
    "# divide figure into grid\n",
    "gs = plt.GridSpec(4,1, hspace=0.8, wspace=0.2)\n",
    "\n",
    "# partition first row to Magnetic Field chart\n",
    "ax1 = fig.add_subplot(gs[0, 0])\n",
    "# partition second row to Magnitude with Error chart\n",
    "ax2 = fig.add_subplot(gs[1, 0])\n",
    "# partition third row to Spacecraft Location Chart\n",
    "ax3 = fig.add_subplot(gs[2, 0])\n",
    "ax4 = fig.add_subplot(gs[3, 0])\n",
    "\n",
    "## Magnetic Field Chart\n",
    "ax1.set_title('Magnetic Field - Sun-State Coordinates', fontsize = 16)\n",
    "# Plotting X coordinates\n",
    "ax1.plot(fullDataFGM.index.to_pydatetime(), fullDataFGM['B_X'], marker = '.', \n",
    "         color = 'r', label = 'B$_{X}$')\n",
    "# Plotting Y coordinantes\n",
    "ax1.plot(fullDataFGM.index.to_pydatetime(), fullDataFGM['B_Y'], marker = '.', \n",
    "         color = 'g', label = 'B$_{Y}$')\n",
    "# Plotting Z coordinates\n",
    "ax1.plot(fullDataFGM.index.to_pydatetime(), fullDataFGM['B_Z'], marker = '.', \n",
    "         color = 'b', label = 'B$_{Z}$')\n",
    "\n",
    "# Horizontal line at y=0 for easy visualization of positive or negative values\n",
    "ax1.axhline(y=0.0, color = 'k', linestyle = 'dashed')\n",
    "# Setting axis labels\n",
    "ax1.set_ylabel('Magnetic Field (nT)', fontsize = 13)\n",
    "ax1.set_xlabel('Time (UT)', fontsize = 13)\n",
    "\n",
    "\n",
    "\n",
    "\n",
    "## Magnitude with Error Chart\n",
    "ax2.set_title('Magnitude with Error', fontsize = 16)\n",
    "ax2.plot(fullDataFGM.index.to_pydatetime(), fullDataFGM['B_MAG'], marker = '.', \n",
    "         color = 'r', label = 'B$_{Mag}$')\n",
    "\n",
    "ax2.fill_between(fullDataFGM.index.to_pydatetime(), \n",
    "                 fullDataFGM['B_MAG'] - fullDataFGM['B_MAG_ERROR'], \n",
    "                 fullDataFGM['B_MAG_ERROR'] + fullDataFGM['B_MAG'], alpha = 0.6, \n",
    "                 color = 'b')\n",
    "\n",
    "# Horizontal line at y=0 for easy visualization of positive or negative values\n",
    "ax2.axhline(y=0.0, color = 'k', linestyle = 'dashed')\n",
    "# Setting axis labels\n",
    "ax2.set_ylabel('Magnetic Field (nT)', fontsize = 13)\n",
    "ax2.set_xlabel('Time (UT)', fontsize = 13)\n",
    "\n",
    "\n",
    "\n",
    "## Spacecraft Location Chart\n",
    "# setting title\n",
    "ax3.set_title('Spacecraft Location', fontsize = 16)\n",
    "\n",
    "# Plotting X position (Radii Jupiter)\n",
    "ax3.plot(fullDataFGM['POS_Z_RJ'], fullDataFGM['POS_X_RJ'], marker = '.', \n",
    "         color = '#5c3566')\n",
    "# Plotting Y posigion (Radii Jupiter)\n",
    "ax4.plot(fullDataFGM['POS_Z_RJ'], fullDataFGM['POS_Y_RJ'], marker = '.', \n",
    "         color = 'g')\n",
    "\n",
    "\n",
    "## Plotting position of Jupiter with respect to spacecraft\n",
    "ax3.plot([0], [0], color='k', marker = 'o',  markersize = 15)\n",
    "ax4.plot([0], [0], color='k', marker = 'o',  markersize = 15)\n",
    "\n",
    "ax3.set_xticklabels([]) #make the tick labels null\n",
    "\n",
    "ax3.set_ylabel('X (R$_{J}$)', fontsize = 16)\n",
    "ax4.set_xlabel('Z (R$_{J}$)', fontsize = 16)\n",
    "ax4.set_ylabel('Y (R$_{J}$)', fontsize = 16)\n",
    "\n",
    "\n",
    "# Setting y limits to better fir the data\n",
    "ax3.set_ylim([-20, 10])\n",
    "ax4.set_ylim([-125, 15])\n",
    "\n",
    "# Setting x limits to better fit the data\n",
    "ax3.set_xlim([-15, 2.5])\n",
    "ax4.set_xlim([-15, 2.5])\n",
    "\n",
    "\n",
    "## Creating legends for each chart\n",
    "ax1.legend(bbox_to_anchor = (1.2, 1.1), prop={'size':14})\n",
    "ax2.legend(bbox_to_anchor = (1.2, 1.1), prop={'size':14})\n",
    "ax3.legend(bbox_to_anchor = (1.2, 1.1), prop={'size':14})\n",
    "ax4.legend(bbox_to_anchor = (1.2, 1.1), prop={'size':14})\n",
    "\n",
    "# Show charts\n",
    "plt.show()"
   ]
  },
  {
   "cell_type": "markdown",
   "metadata": {},
   "source": [
    "### Analysis"
   ]
  },
  {
   "cell_type": "markdown",
   "metadata": {
    "collapsed": true
   },
   "source": [
    "As the largest and most massive planet in our solar system, Jupiter also has the most intense planetary magnetic field. Thus, it is interesting to observe the FGM measurements, as captured by Juno, to get a sense for the magnetism on Jupiter. For the data that I chose, from November 20th - November 21st of 2016, the trajectory of the spacecraft is seemingly uninteresting. The spacecraft at this point in time is extremely far away from Jupiter, as demonstrated by the large Y coordinate values. As a consequence, there is very little variation in the magenetic field data. Here, it does not make sense to use standard deviation because we are observing the magnetism which has no expected value and is expected to change with location. "
   ]
  }
 ],
 "metadata": {
  "kernelspec": {
   "display_name": "Python 3",
   "language": "python",
   "name": "python3"
  },
  "language_info": {
   "codemirror_mode": {
    "name": "ipython",
    "version": 3
   },
   "file_extension": ".py",
   "mimetype": "text/x-python",
   "name": "python",
   "nbconvert_exporter": "python",
   "pygments_lexer": "ipython3",
   "version": "3.6.3"
  }
 },
 "nbformat": 4,
 "nbformat_minor": 2
}
